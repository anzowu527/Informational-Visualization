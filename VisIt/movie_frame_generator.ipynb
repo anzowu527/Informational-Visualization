{
 "cells": [
  {
   "cell_type": "code",
   "execution_count": 1,
   "id": "89940cff",
   "metadata": {},
   "outputs": [],
   "source": [
    "import matplotlib.pyplot as plt\n",
    "import numpy as np\n",
    "from os import mkdir\n",
    "from os.path import join"
   ]
  },
  {
   "cell_type": "code",
   "execution_count": 2,
   "id": "dcd55977",
   "metadata": {},
   "outputs": [],
   "source": [
    "bov_counter = 0\n",
    "\n",
    "def writeBOV(g):\n",
    "    \"\"\"g is presumed to be a numpy 2D array of doubles\"\"\"\n",
    "    global bov_counter\n",
    "    bovNm = 'file_%03d.bov' % bov_counter\n",
    "    dataNm = 'file_%03d.doubles' % bov_counter\n",
    "    bov_counter += 1\n",
    "    try:\n",
    "        mkdir('frames')\n",
    "    except FileExistsError:\n",
    "        pass\n",
    "    with open(join('frames', bovNm), 'w') as f:\n",
    "        f.write('TIME: %g\\n' % float(bov_counter))\n",
    "        f.write('DATA_FILE: %s\\n' % dataNm)\n",
    "        f.write('DATA_SIZE: %d %d 1\\n' % g.shape)\n",
    "        f.write('DATA_FORMAT: DOUBLE\\n')\n",
    "        f.write('VARIABLE: U\\n')\n",
    "        f.write('DATA_ENDIAN: LITTLE\\n')\n",
    "        f.write('CENTERING: ZONAL\\n')\n",
    "        f.write('BRICK_ORIGIN: 0. 0. 0.\\n')\n",
    "        f.write('BRICK_SIZE: 1.0 1.0 1.0\\n')\n",
    "    with open(join('frames', dataNm), 'w') as f:\n",
    "        g.T.tofile(f)  # BOV format expects Fortran order\n"
   ]
  },
  {
   "cell_type": "code",
   "execution_count": 3,
   "id": "d6a3f51f",
   "metadata": {},
   "outputs": [],
   "source": [
    "#\n",
    "# Scaling constants\n",
    "#\n",
    "# You'll have to pick a value for dt which produces stable evolution\n",
    "# for your stencil!\n",
    "\n",
    "XDIM = 101\n",
    "YDIM = 101\n",
    "tMax = 5.0\n",
    "dx = 0.1\n",
    "dy = 0.1\n",
    "dt = 0.025 # FIX ME! \n",
    "vel = 1.0\n",
    "xMin = -(XDIM//2)*dx\n",
    "yMin = -(YDIM//2)*dy"
   ]
  },
  {
   "cell_type": "code",
   "execution_count": 4,
   "id": "194e3028",
   "metadata": {},
   "outputs": [],
   "source": [
    "def initialize():\n",
    "    \"\"\"Create the grid and apply the initial condition\"\"\"\n",
    "    U = np.zeros([YDIM, XDIM])  # We just use this for shape\n",
    "\n",
    "    ctrX= 0.0\n",
    "    ctrY= 0.0\n",
    "    sigma= 0.25\n",
    "    maxU= 5.0\n",
    "\n",
    "    grid = np.indices(U.shape)\n",
    "    x = (grid[1] * dx) + xMin  # a full grid of X coordinates\n",
    "    y = (grid[0] * dy) + yMin  # a full grid of Y coordinates\n",
    "    distSqr = np.square(x - ctrX) + np.square(y - ctrY)\n",
    "    U = maxU * np.exp(-distSqr/(sigma*sigma))\n",
    "    \n",
    "    return U"
   ]
  },
  {
   "cell_type": "code",
   "execution_count": 5,
   "id": "fb22c7f4",
   "metadata": {},
   "outputs": [],
   "source": [
    "# test writeBOV\n",
    "bov_counter = 0\n",
    "writeBOV(initialize())"
   ]
  },
  {
   "cell_type": "code",
   "execution_count": 6,
   "id": "9d13362e",
   "metadata": {},
   "outputs": [],
   "source": [
    "def doTimeStep(U, UOld):\n",
    "    \"\"\"\n",
    "    Step your solution forward in time.  You need to calculate\n",
    "    UNew in the grid area [1:-1, 1:-1].  The 'patch the boundaries'\n",
    "    bit below will take care of the edges at i=0, i=XDIM-1, j=0,\n",
    "    and j=YDIM-1.  Note that the array indices are ordered like U[j][i]!\n",
    "    \"\"\"\n",
    "\n",
    "    xRatioSqr= (dt*dt*vel*vel)/(dx*dx)\n",
    "    yRatioSqr= (dt*dt*vel*vel)/(dy*dy)\n",
    "\n",
    "    UNew = np.empty_like(U)\n",
    "\n",
    "    dxxterm = xRatioSqr * (U[1:-1, 2:] + U[1:-1, 0:-2] - 2*U[1:-1, 1:-1])\n",
    "    dyyterm = yRatioSqr * (U[2:, 1:-1] + U[0:-2, 1:-1] - 2*U[1:-1, 1:-1])\n",
    "    UNew[1:-1, 1:-1] = 2*U[1:-1,1:-1] + (dxxterm + dyyterm) - UOld[1:-1, 1:-1]\n",
    "\n",
    "    # Patch the boundaries.  This mapping makes the surface into a torus.\n",
    "    UNew[:, 0] = UNew[:, 1]\n",
    "    UNew[:, -1] = UNew[:, -2]\n",
    "    UNew[0, :] = UNew[1, :]\n",
    "    UNew[-1, :] = UNew[-2, :]\n",
    "\n",
    "    return UNew"
   ]
  },
  {
   "cell_type": "code",
   "execution_count": 7,
   "id": "8cd8b3ab",
   "metadata": {},
   "outputs": [],
   "source": [
    "def timeToOutput(t, count):\n",
    "    \"\"\"A little test to tell how often to dump output\"\"\"\n",
    "    return (count % 4 == 0)"
   ]
  },
  {
   "cell_type": "code",
   "execution_count": 8,
   "id": "c38fb2c3",
   "metadata": {},
   "outputs": [
    {
     "name": "stdout",
     "output_type": "stream",
     "text": [
      "Output at t = 0.0: min = 0.000000, max = 5.000000\n",
      "Output at t = 0.1: min = 0.000000, max = 3.333759\n",
      "Output at t = 0.19999999999999998: min = 0.000000, max = 1.405772\n",
      "Output at t = 0.3: min = -1.280158, max = 1.176781\n",
      "Output at t = 0.4000000000000001: min = -1.505998, max = 1.075271\n",
      "Output at t = 0.5000000000000001: min = -1.055168, max = 0.994922\n",
      "Output at t = 0.6000000000000002: min = -0.836015, max = 0.918153\n",
      "Output at t = 0.7000000000000003: min = -0.715695, max = 0.872852\n",
      "Output at t = 0.8000000000000004: min = -0.641914, max = 0.809942\n",
      "Output at t = 0.9000000000000005: min = -0.588482, max = 0.782391\n",
      "Output at t = 1.0000000000000004: min = -0.546351, max = 0.741648\n",
      "Output at t = 1.1: min = -0.515050, max = 0.702527\n",
      "Output at t = 1.1999999999999997: min = -0.486513, max = 0.685882\n",
      "Output at t = 1.2999999999999994: min = -0.467636, max = 0.648079\n",
      "Output at t = 1.399999999999999: min = -0.451008, max = 0.633354\n",
      "Output at t = 1.4999999999999987: min = -0.436726, max = 0.609990\n",
      "Output at t = 1.5999999999999983: min = -0.424232, max = 0.586916\n",
      "Output at t = 1.699999999999998: min = -0.413182, max = 0.575864\n",
      "Output at t = 1.7999999999999976: min = -0.403286, max = 0.550172\n",
      "Output at t = 1.8999999999999972: min = -0.394304, max = 0.542468\n",
      "Output at t = 1.999999999999997: min = -0.386044, max = 0.525532\n",
      "Output at t = 2.0999999999999965: min = -0.378351, max = 0.507638\n",
      "Output at t = 2.199999999999996: min = -0.371612, max = 0.502381\n",
      "Output at t = 2.299999999999996: min = -0.365495, max = 0.482311\n",
      "Output at t = 2.3999999999999955: min = -0.359593, max = 0.477143\n",
      "Output at t = 2.499999999999995: min = -0.353845, max = 0.465149\n",
      "Output at t = 2.5999999999999948: min = -0.348241, max = 0.452032\n",
      "Output at t = 2.6999999999999944: min = -0.343286, max = 0.447799\n",
      "Output at t = 2.799999999999994: min = -0.338320, max = 0.432602\n",
      "Output at t = 2.8999999999999937: min = -0.333646, max = 0.429001\n",
      "Output at t = 2.9999999999999933: min = -0.329052, max = 0.419037\n",
      "Output at t = 3.099999999999993: min = -0.324389, max = 0.408140\n",
      "Output at t = 3.1999999999999926: min = -0.319652, max = 0.405848\n",
      "Output at t = 3.2999999999999923: min = -0.314903, max = 0.393331\n",
      "Output at t = 3.399999999999992: min = -0.311084, max = 0.390411\n",
      "Output at t = 3.4999999999999916: min = -0.307355, max = 0.382504\n",
      "Output at t = 3.599999999999991: min = -0.304082, max = 0.374071\n",
      "Output at t = 3.699999999999991: min = -0.300876, max = 0.371833\n",
      "Output at t = 3.7999999999999905: min = -0.297723, max = 0.361241\n",
      "Output at t = 3.89999999999999: min = -0.294614, max = 0.359557\n",
      "Output at t = 3.99999999999999: min = -0.291540, max = 0.352548\n",
      "Output at t = 4.099999999999991: min = -0.288494, max = 0.345425\n",
      "Output at t = 4.199999999999992: min = -0.285470, max = 0.343894\n",
      "Output at t = 4.299999999999994: min = -0.282464, max = 0.334563\n",
      "Output at t = 4.399999999999995: min = -0.279537, max = 0.333469\n",
      "Output at t = 4.4999999999999964: min = -0.277190, max = 0.327393\n",
      "Output at t = 4.599999999999998: min = -0.274738, max = 0.321923\n",
      "Output at t = 4.699999999999999: min = -0.272218, max = 0.320179\n",
      "Output at t = 4.800000000000001: min = -0.269681, max = 0.426877\n",
      "Output at t = 4.900000000000002: min = -0.267479, max = 0.493889\n"
     ]
    }
   ],
   "source": [
    "\n",
    "U = initialize()\n",
    "\n",
    "UOld = np.copy(U)\n",
    "\n",
    "t = 0.0\n",
    "count = 0\n",
    "while t < tMax:\n",
    "    if timeToOutput(t, count):\n",
    "        writeBOV(U)\n",
    "        print ('Output at t = %s: min = %f, max = %f'\n",
    "               % (t, np.amin(U), np.amax(U)))\n",
    "    UNew = doTimeStep(U, UOld)\n",
    "    UOld = U\n",
    "    U = UNew\n",
    "    t += dt\n",
    "    count += 1"
   ]
  },
  {
   "cell_type": "code",
   "execution_count": null,
   "id": "727a7da2",
   "metadata": {},
   "outputs": [],
   "source": []
  }
 ],
 "metadata": {
  "kernelspec": {
   "display_name": "base",
   "language": "python",
   "name": "python3"
  },
  "language_info": {
   "codemirror_mode": {
    "name": "ipython",
    "version": 3
   },
   "file_extension": ".py",
   "mimetype": "text/x-python",
   "name": "python",
   "nbconvert_exporter": "python",
   "pygments_lexer": "ipython3",
   "version": "3.11.4"
  }
 },
 "nbformat": 4,
 "nbformat_minor": 5
}
